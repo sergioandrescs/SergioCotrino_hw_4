{
 "metadata": {
  "name": "",
  "signature": "sha256:4740580ddee49e61642fab04ea1c9f5b47adf02b50b4a4358c469fa1ba9c6db2"
 },
 "nbformat": 3,
 "nbformat_minor": 0,
 "worksheets": [
  {
   "cells": [
    {
     "cell_type": "code",
     "collapsed": false,
     "input": [
      "%pylab inline\n",
      "import csv\n",
      "archivo= open('homicidios.1990.a.2013.csv', 'rb')\n",
      "data_csv = csv.reader(archivo)\n",
      "data=[]\n",
      "prome=[]\n",
      "count =-1\n",
      "cova=[]\n",
      "error=[]\n",
      "for row in data_csv:\n",
      "    count+=1\n",
      "    line=[]\n",
      "    if (count!=0):\n",
      "        for i in range(24):        \n",
      "            line.append(row[5+(3*i)])\n",
      "        if all([(a!='NA' and a!='#DIV/0!') for a in line]):\n",
      "            for i in range(len(line)):\n",
      "                line[i]=float(line[i])\n",
      "            data.append(line)\n",
      "        else:\n",
      "            error.append(count)\n",
      "\n",
      "data=array(data)\n",
      "print shape(data_csv)\n",
      "data_csv =close() \n",
      "\n",
      "#plot (data[:,0],'ko')\n",
      "\n",
      "for i in range(shape(data)[1]):\n",
      "    prome.append(mean(data[:,i]))\n",
      "\n",
      "for row in data:\n",
      "    for i in range(shape(data)[1]):\n",
      "        row[i]=(row[i]-prome[i])\n",
      "\n",
      "    \n",
      "count=-1\n",
      "for k in range(len(prome)**2):\n",
      "    u=k%len(prome)\n",
      "    a=0\n",
      "    if(u==0):\n",
      "        cova.append([])\n",
      "        count+=1\n",
      "    for i in range(len(data[:,0])):\n",
      "        a+=(data[i,(count)])*(data[i,u])\n",
      "    \n",
      "    cova[count].append(a/(len(data[:,0])-1))\n",
      "\n",
      "#print cova\n",
      "cova=array(cova)\n",
      "\n",
      "eigenvalues, eigenvectors = linalg.eig(cova)\n",
      "#print shape(data.T[:16,])\n",
      "#print eigenvalues\n",
      "#print shape(eigenvectors.T[:,:16])\n",
      "\n",
      "result=(eigenvectors.T[:,:16])*data.T[:,:16]\n",
      "\n",
      "#print result\n",
      "\n",
      "print error\n",
      "\n",
      "plot (result[4,:])\n"
     ],
     "language": "python",
     "metadata": {},
     "outputs": [
      {
       "output_type": "stream",
       "stream": "stdout",
       "text": [
        "Populating the interactive namespace from numpy and matplotlib\n",
        "()"
       ]
      },
      {
       "output_type": "stream",
       "stream": "stdout",
       "text": [
        "\n",
        "[83, 155, 161, 164, 170, 173, 175, 177, 181, 191, 226, 333, 341, 374, 398, 403, 422, 437, 438, 454, 457, 460, 483, 484, 487, 513, 517, 535, 545, 547, 555, 573, 578, 584, 585, 592, 593, 594, 596, 597, 598, 604, 643, 650, 658, 664, 670, 677, 682, 685, 686, 689, 703, 733, 755, 793, 807, 938, 940, 1087, 1088, 1093, 1095, 1096, 1102, 1108]"
       ]
      },
      {
       "output_type": "stream",
       "stream": "stdout",
       "text": [
        "\n"
       ]
      },
      {
       "metadata": {},
       "output_type": "pyout",
       "prompt_number": 38,
       "text": [
        "[<matplotlib.lines.Line2D at 0x3d081d0>]"
       ]
      },
      {
       "metadata": {},
       "output_type": "display_data",
       "png": "[encoded data removed]",
       "text": [
        "<matplotlib.figure.Figure at 0x3b11250>"
       ]
      }
     ],
     "prompt_number": 38
    },
    {
     "cell_type": "code",
     "collapsed": false,
     "input": [],
     "language": "python",
     "metadata": {},
     "outputs": []
    }
   ],
   "metadata": {}
  }
 ]
}